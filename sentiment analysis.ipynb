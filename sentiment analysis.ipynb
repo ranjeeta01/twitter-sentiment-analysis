########### simple tweets analyzer ############

## import essential libraries
from tweepy.streaming import StreamListener
from tweepy import API
from tweepy import Cursor
from tweepy import OAuthHandler
from tweepy import Stream
import numpy as np 
import pandas as pd 
import matplotlib.pyplot as plt 
from textblob import TextBlob ## for built in sentiment analyzer
import re 
## import twitter keys


### twitter client ###
class TwitterClient():
    def __init__(self,twitter_user=None): ##none will give tweets from our own timeline
        self.auth = TwitterAuthenticator().authenticate_twitter_app()
        self.twitter_client = API(self.auth)
        self.twitter_user = twitter_user  ##to get to any other users' timeline
    
    def get_twitter_client_api(self):
        return self.twitter_client
    def get_user_timeline_tweets(self,num_tweets):
        tweets = [] 
        for tweet in Cursor(self.twitter_client.user_timeline, id=self.twitter_user).items(num_tweets):
        """
          if user timeline isn't specified then no parameter will be passed and the value in that place
          will be NONE + tweets of our own timeline will be printed.
          items here specifies the number of tweets that we need to print from the timeline
        """
             tweets.append(tweet)
        return tweets

    def get_friend_list(self,num_friends): ## for getting tweets of any friends' timeline
        friend_list = []
        for friend in Cursor(self.twitter_client.friends, id=self.twitter_user).items(num_friends):
            friend_list.append(friend)
        return friend_list

    def get_home_timeline_tweets(self,num_tweets): ## for home timeline tweets
        home_timeline_tweets = []
        for tweet in Cursor(self.twitter_client.home_timeline, id=self.twitter_user).items(num_tweets):
            home_timeline_tweets.append(tweet)
        return home_timeline_tweets


### twitter authenticator ###
    class TwitterStreamer():
    """
    class for streaming and processing live tweets
    """
    def __init__(self):
        self.twitter_authenticator = TwitterAuthenticator()
    
    def stream_tweets(self, fetched_tweets_filename, hash_tag_list):
        """
        this will handle twitter authentification and the connection to twitter streaming api 
        """
        def __init__(self, fetched_tweets_filename):
            self.fetched_tweets_filename = fetched_tweets_filename

        def on_data(self.data):
            try:
                print(data)
                with open(self.fetced_tweets_filename ,'a') as tf:
                    tf.write(data)
                return True 
            except BaseException as e:
                print("Error on_data %s" %str(e))
            return True

        def on_error(self,status):
            if status == 420:
               ## returns False on_data method in case rate limit occurs.
               return False
            print(status)


### data analysis ###
class TweetAnalyzer():
   """
   function for analyzing and categorizing contents from tweets
   """
   def clean_tweet(self,tweet): 
   ## to clean the tweet and remove all hyperlinks and other links
       return ' '.join(re.sub("(@[A-Za-z0-9])|([^0-9A-Za-z \t])|(\w+:\/\/\S+)","",tweet).split())

    def analyze_sentiment(self,tweet):
       analysis = TextBlob(self.clean_tweet(tweet))
       if analysis.sentiment.polarity > 0:
          return 1
        elif analysis.sentiment.polarity == 0:
          return 0
        else:
          return -1

    def tweets_to_df(self,tweets):
        df = pd.DataFrame(data=[tweet.text for tweet in tweets],columns=['tweets'])
        ## we are adding columns in the dataframe 
        df['id'] = np.array([tweet.id for tweet in tweets]) ## saving id of each extracted tweet in an array
        df['date'] =  np.array([tweet.created_at for tweet in tweets])
        df['retweet count'] np.array([tweet.retweet_count for tweet in tweets])
        df['len'] = np.array([len(tweet.txt) for tweet in tweets])
        df['likes'] = np.array([tweet.favourite_count for tweet in tweets])

        return df


if __name__ == "__main__":
   twitter_client = TwitterClient()
   tweet_analyzer = TweetAnalyzer()

   api = twitte_client.get_twitter_cliengt_api()
   tweets = api.user_timeline(screen_name = "realDonaldTrump",count = 200)
   ## user_timeline is a function in TwitterClient API, we haven't defined it 
   ## it allows us to specify user whose tweets are to be extracted and the number of tweets

   df = tweet_analyzer.tweets_to_df(tweets) ##will create a dataframe object

   print(df.head(10))
   print(dir(tweets[0])) ## this line shows us whta types of info we can extract from each tweet by just taking first tweet
   ## we can ask 'user' 'retweets' 'id' etc 

   df['sentiment'] = np.array([tweet_analyzer.analyze_sentiment(tweet) for tweet in df['tweets']])
   print(df.head(10))